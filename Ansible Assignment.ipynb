{
 "cells": [
  {
   "cell_type": "markdown",
   "id": "557dee5c",
   "metadata": {},
   "source": [
    "# Only for Window User"
   ]
  },
  {
   "cell_type": "markdown",
   "id": "06a613fc",
   "metadata": {},
   "source": [
    "Step 1: Install a Linux Distribution in WSL"
   ]
  },
  {
   "cell_type": "markdown",
   "id": "fda4c8bf",
   "metadata": {},
   "source": [
    "Step 2: Install Ansible in your Ubuntu WSL Distribution"
   ]
  },
  {
   "cell_type": "markdown",
   "id": "651bdd13",
   "metadata": {},
   "source": [
    "Type the following command and press Enter:\n",
    "\n",
    "#Command\n",
    "\n",
    "Bash\n",
    "\n",
    "--------------------->sudo apt update"
   ]
  },
  {
   "cell_type": "markdown",
   "id": "7053191a",
   "metadata": {},
   "source": [
    "3.After the update completes, install Ansible itself.\n",
    "Type the following command and press Enter:\n",
    "\n",
    "    \n",
    "#Command\n",
    "\n",
    "Bash\n",
    "\n",
    "-------------->sudo apt install ansible -y"
   ]
  },
  {
   "cell_type": "markdown",
   "id": "d8178494",
   "metadata": {},
   "source": [
    "4.Finally, let's verify that Ansible has been installed correctly.\n",
    "Type the following command and press Enter:\n",
    "\n",
    "#Bash Command\n",
    "\n",
    "---------------->ansible --version"
   ]
  },
  {
   "cell_type": "markdown",
   "id": "5d1324d3",
   "metadata": {},
   "source": [
    "You should see output similar to this (the exact version numbers might differ, which is fine):\n",
    "\n",
    "ansible [core 2.15.5]\n",
    "  config file = None\n",
    "  configured module search path = ['/home/youruser/.ansible/plugins/modules', '/usr/share/ansible/plugins/modules']\n",
    "  ansible python module location = /usr/lib/python3/dist-packages/ansible\n",
    "  ansible collection location = /home/youruser/.ansible/collections:/usr/share/ansible/collections\n",
    "  executable location = /usr/bin/ansible\n",
    "  python version = 3.10.12 (main, Nov 20 2023, 15:14:05) [GCC 11.4.0] (/usr)\n",
    "  jinja version = 3.0.3\n",
    "  libyaml collection = True"
   ]
  },
  {
   "cell_type": "markdown",
   "id": "3f5a20b6",
   "metadata": {},
   "source": [
    "# Prepare a Target Machine (Managed Node)"
   ]
  },
  {
   "cell_type": "markdown",
   "id": "98c22dc9",
   "metadata": {},
   "source": [
    "Fantastic! You now have Ansible successfully installed in your WSL Ubuntu environment. This means your Windows machine is ready to act as an Ansible Control Node.\n",
    "\n",
    "Step 3: Prepare a Target Machine (Managed Node)\n",
    "Now that you have Ansible installed, you need a machine for Ansible to manage. This is called a Managed Node or Target Host.\n",
    "\n",
    "For a basic configuration, you have two primary options:\n",
    "\n",
    "A separate Linux Virtual Machine (VM): This is the ideal and most common setup for learning and production. It provides a clear separation between your Ansible control node and the machine it's managing.\n",
    "\n",
    "\n",
    "Your Windows 11 host machine itself: You can actually configure your Windows 11 machine from your WSL Ubuntu instance, but it requires a bit more initial setup on the Windows side."
   ]
  },
  {
   "cell_type": "markdown",
   "id": "9e6b8bb0",
   "metadata": {},
   "source": [
    "# Prepare Your AWS EC2 Target Machine"
   ]
  },
  {
   "cell_type": "markdown",
   "id": "7b7cad44",
   "metadata": {},
   "source": [
    "I.Identify the Target EC2 Instance:\n",
    "\n",
    "Go to your AWS EC2 Dashboard.\n",
    "\n",
    "Note down the Public IPv4 address of one of your running Linux instances. Let's call this <YOUR_EC2_PUBLIC_IP>.\n",
    "\n",
    "Note down the private key file (.pem file) associated with that EC2 instance. This is the key pair you downloaded when you launched the instance. You'll need to transfer this to your WSL environment."
   ]
  },
  {
   "cell_type": "markdown",
   "id": "208deabc",
   "metadata": {},
   "source": [
    "II.Transfer your AWS Private Key (.pem file) to WSL:\n",
    "\n",
    "Locate your .pem file on your Windows machine (e.g., C:\\Users\\YourUser\\Downloads\\my-key-pair.pem).\n",
    "\n",
    "Open your WSL Ubuntu terminal.\n",
    "\n",
    "Create a secure directory for your SSH keys in WSL:"
   ]
  },
  {
   "cell_type": "code",
   "execution_count": 1,
   "id": "4a84b181",
   "metadata": {},
   "outputs": [
    {
     "ename": "SyntaxError",
     "evalue": "invalid syntax (490141117.py, line 1)",
     "output_type": "error",
     "traceback": [
      "\u001b[1;36m  File \u001b[1;32m\"C:\\Users\\RAj\\AppData\\Local\\Temp\\ipykernel_15892\\490141117.py\"\u001b[1;36m, line \u001b[1;32m1\u001b[0m\n\u001b[1;33m    mkdir -p ~/.ssh\u001b[0m\n\u001b[1;37m             ^\u001b[0m\n\u001b[1;31mSyntaxError\u001b[0m\u001b[1;31m:\u001b[0m invalid syntax\n"
     ]
    }
   ],
   "source": [
    "mkdir -p ~/.ssh\n",
    "chmod 700 ~/.ssh"
   ]
  },
  {
   "cell_type": "markdown",
   "id": "a1ecc492",
   "metadata": {},
   "source": [
    "III.Copy the .pem file from Windows to your WSL's ~/.ssh directory:\n",
    "\n",
    "The easiest way to do this is to navigate to the Windows file path from within WSL. Windows drives are mounted under /mnt/. So, if your key is in C:\\Users\\YourUser\\Downloads\\my-key-pair.pem:\n",
    "\n",
    "Bash Command\n",
    "\n",
    "--------------------->cp /mnt/c/Users/YourUser/Downloads/my-key-pair.pem ~/.ssh/"
   ]
  },
  {
   "cell_type": "markdown",
   "id": "89bc5322",
   "metadata": {},
   "source": [
    "# Replace YourUser with your actual Windows username and my-key-pair.pem with your key file's name."
   ]
  },
  {
   "cell_type": "markdown",
   "id": "9d4182cb",
   "metadata": {},
   "source": [
    "IV.Set the correct permissions for the private key in WSL: SSH requires private keys to have very strict permissions (only readable by the owner).\n",
    "\n",
    "Bash Command\n",
    "\n",
    "-------------->chmod 400 ~/.ssh/my-key-pair.pem\n",
    "Again, replace my-key-pair.pem with your key file's name."
   ]
  },
  {
   "cell_type": "markdown",
   "id": "61eea1f2",
   "metadata": {},
   "source": [
    "Ensure SSH Connectivity (Test from WSL):\n",
    "\n",
    "Most AWS Linux AMIs (like Amazon Linux 2, Ubuntu) come with SSH server installed and Python 3 pre-installed.\n",
    "\n",
    "Test SSH connectivity from your WSL Ubuntu terminal to your EC2 instance:\n",
    "\n",
    "Bash COMMAND\n",
    "\n",
    "----------------------->ssh -i ~/.ssh/my-key-pair.pem ec2-user@<YOUR_EC2_PUBLIC_IP>\n",
    "\n",
    "(If you used an Ubuntu AMI, the default user might be ubuntu instead of ec2-user. If you used a Red Hat/CentOS AMI, it might be ec2-user or centos.)\n",
    "\n",
    "Replace my-key-pair.pem and <YOUR_EC2_PUBLIC_IP> with your actual values.\n",
    "\n",
    "If this connects successfully (you'll see a command prompt for your EC2 instance), type exit to return to your WSL terminal. If it fails, double-check your IP, key path, permissions, and security group settings in AWS (ensure port 22 is open to your IP or 0.0.0.0/0 for testing)."
   ]
  },
  {
   "cell_type": "markdown",
   "id": "1092d008",
   "metadata": {},
   "source": [
    "------------>When you get the message \"permanently added to the list of known hosts,\" it means:\n",
    "\n",
    "Your SSH connection was successful. You were able to reach the EC2 instance via SSH from your WSL Ubuntu terminal.\n",
    "\n",
    "SSH key authentication worked. Your ~/.ssh/my-key-pair.pem file was correctly used to authenticate.\n",
    "\n",
    "The host key of the EC2 instance was saved. This means your SSH client (on WSL) now trusts that specific EC2 instance, and you won't get a \"The authenticity of host 'X.X.X.X' can't be established\" warning again for that IP.\n",
    "\n",
    "You should now be inside your EC2 instance's terminal (your prompt will likely change to something like ec2-user@ip-XXX-XXX-XXX-XXX:~$ or similar).\n",
    "\n",
    "Please type exit and press Enter to return to your WSL Ubuntu terminal."
   ]
  },
  {
   "cell_type": "markdown",
   "id": "5a2bdfa7",
   "metadata": {},
   "source": [
    "# Please type exit and press Enter to return to your WSL Ubuntu terminal."
   ]
  },
  {
   "cell_type": "markdown",
   "id": "b5f05549",
   "metadata": {},
   "source": [
    "# Create an Ansible Project Directory and Inventory File"
   ]
  },
  {
   "cell_type": "markdown",
   "id": "e5f44e1e",
   "metadata": {},
   "source": [
    "\n",
    "Ansible needs to know which machines it's supposed to manage. This information is stored in an inventory file. It's also good practice to keep your Ansible files organized in a \"project\" directory.\n",
    "\n",
    "In your WSL Ubuntu terminal, make sure you are in your home directory (~). You can type cd ~ and press Enter to ensure this."
   ]
  },
  {
   "cell_type": "markdown",
   "id": "af595b21",
   "metadata": {},
   "source": [
    "1.Create a new directory for your Ansible project:\n",
    "\n",
    "#Bash Command\n",
    "\n",
    "-------------->mkdir my_aws_ansible_project\n",
    "\n",
    "2.Navigate into your new project directory:\n",
    "\n",
    "#Bash Command\n",
    "\n",
    "------------->cd my_aws_ansible_project"
   ]
  },
  {
   "cell_type": "markdown",
   "id": "94bdad6a",
   "metadata": {},
   "source": [
    "3.Create your inventory file. We'll name it inventory.ini (the .ini extension is a common format for simple inventories):\n",
    "\n",
    "Bash Command\n",
    "\n",
    "-------------------->nano inventory.ini"
   ]
  },
  {
   "cell_type": "markdown",
   "id": "bdaff44b",
   "metadata": {},
   "source": [
    "4.Add the following lines to inventory.ini:\n",
    "\n",
    "Ini, TOML\n",
    "\n",
    "[webservers]\n",
    "<YOUR_EC2_PUBLIC_IP> ansible_user=ec2-user ansible_ssh_private_key_file=~/.ssh/my-key-pair"
   ]
  },
  {
   "cell_type": "markdown",
   "id": "405242d8",
   "metadata": {},
   "source": [
    "Remember to replace:\n",
    "\n",
    "<YOUR_EC2_PUBLIC_IP> with the actual Public IPv4 address of your EC2 instance.\n",
    "\n",
    "my-key-pair.pem with the actual name of your private key file.\n",
    "\n",
    "A quick explanation of these lines:\n",
    "\n",
    "[webservers]: This defines a group of hosts. You can name your groups anything you like (e.g., db_servers, dev_machines). This makes it easy to target multiple servers at once.\n",
    "\n",
    "<YOUR_EC2_PUBLIC_IP>: This is the actual address of your target machine.\n",
    "\n",
    "ansible_user=ec2-user: This tells Ansible to use the ec2-user account to connect to the EC2 instance via SSH. (If you used an Ubuntu AMI, it might be ubuntu.)\n",
    "\n",
    "ansible_ssh_private_key_file=~/.ssh/my-key-pair.pem: This tells Ansible which SSH private key to use for authentication when connecting to this host. ~/.ssh/my-key-pair.pem is the path where you copied your key in the previous step.\n",
    "Save and exit nano:\n",
    "\n",
    "Press Ctrl + O (that's the letter O, not zero) to write out the file.\n",
    "\n",
    "Press Enter to confirm the filename.\n",
    "\n",
    "Press Ctrl + X to exit the editor.\n",
    "\n",
    "Now you have an inventory file telling Ansible about your first EC2 target. Let me know when this is done, and we'll run a quick test."
   ]
  },
  {
   "cell_type": "markdown",
   "id": "81067160",
   "metadata": {},
   "source": [
    "# Test Connectivity with the ansible Command"
   ]
  },
  {
   "cell_type": "markdown",
   "id": "247d3256",
   "metadata": {},
   "source": [
    "1.Open your WSL Ubuntu terminal (if it's not already open).\n",
    "\n",
    "2.Navigate to your Ansible project directory:\n",
    "\n",
    "Bash Command\n",
    "\n",
    "------------------------->cd ~/my_aws_ansible_project\n",
    "(This is important because your inventory.ini file is in this directory).\n",
    "\n",
    "3.Run the following Ansible command:\n",
    "\n",
    "Bash Command\n",
    "\n",
    "---------------------->ansible webservers -i inventory.ini -m ping"
   ]
  },
  {
   "cell_type": "markdown",
   "id": "cd4d4583",
   "metadata": {},
   "source": [
    "# Let's break down this command:"
   ]
  },
  {
   "cell_type": "markdown",
   "id": "2e27f707",
   "metadata": {},
   "source": [
    "ansible: This is the command-line tool for running ad-hoc Ansible commands (single tasks, not full playbooks).\n",
    "\n",
    "webservers: This tells Ansible to run the command on all hosts that belong to the webservers group, as defined in your inventory.ini file.\n",
    "\n",
    "-i inventory.ini: This specifies that Ansible should use your inventory.ini file to find the host information.\n",
    "\n",
    "-m ping: This tells Ansible to use the ping module. The ping module simply checks if Ansible can connect to the remote host and run a Python script on it. It's like a health check for Ansible connectivity."
   ]
  },
  {
   "cell_type": "markdown",
   "id": "e578a49d",
   "metadata": {},
   "source": [
    "# What to expect as output:"
   ]
  },
  {
   "cell_type": "markdown",
   "id": "50cfaecc",
   "metadata": {},
   "source": [
    "\n",
    "\n",
    "If successful, you should see output similar to this:\n",
    "\n",
    "<YOUR_EC2_PUBLIC_IP> | SUCCESS => {\n",
    "    \"ansible_facts\": {\n",
    "        \"discovered_interpreter_python\": \"/usr/bin/python3\"\n",
    "    },\n",
    "    \"changed\": false,\n",
    "    \"ping\": \"pong\"\n",
    "}\n",
    "The key part here is SUCCESS => {\"ping\": \"pong\"}. This confirms that Ansible successfully connected to your EC2 instance, authenticated using your key, and was able to execute a basic task on it!\n",
    "\n",
    "If you get any errors, stop there and let me know the exact error message. We can troubleshoot it together.\n",
    "\n",
    "Once you see the \"pong\" message, let me know, and we'll move on to writing our first actual configuration script (an Ansible Playbook)."
   ]
  },
  {
   "cell_type": "markdown",
   "id": "fbcb128f",
   "metadata": {},
   "source": [
    "# Write Your First Ansible Playbook"
   ]
  },
  {
   "cell_type": "markdown",
   "id": "eb9bb673",
   "metadata": {},
   "source": [
    "\n",
    "\n",
    "Step 6: Write Your First Ansible Playbook\n",
    "Now that connectivity is confirmed, we're ready to write a real configuration script, which Ansible calls a Playbook. Playbooks are written in YAML (YAML Ain't Markup Language) and define a set of tasks to be executed on your managed nodes.\n",
    "\n",
    "For this first playbook, let's do something simple but tangible: we'll install the Nginx web server on your EC2 instance and make sure it's running."
   ]
  },
  {
   "cell_type": "markdown",
   "id": "b91c09e6",
   "metadata": {},
   "source": [
    "For this first playbook, let's do something simple but tangible: we'll install the Nginx web server on your EC2 instance and make sure it's running.\n",
    "\n",
    "1.In your WSL Ubuntu terminal, ensure you are still in your Ansible project directory:\n",
    "\n",
    "#Bash Command\n",
    "\n",
    "------------------->cd ~/my_aws_ansible_project\n",
    "\n",
    "2.Create a new file for your playbook called install_nginx.yml:\n",
    "\n",
    "#Bash Command\n",
    "\n",
    "------------------->nano install_nginx.yml\n",
    "This will open the nano text editor."
   ]
  },
  {
   "cell_type": "markdown",
   "id": "cf70e52c",
   "metadata": {},
   "source": [
    "# Copy and paste the following content into the install_nginx.yml file:"
   ]
  },
  {
   "cell_type": "code",
   "execution_count": 4,
   "id": "34b9c9a1",
   "metadata": {},
   "outputs": [
    {
     "ename": "SyntaxError",
     "evalue": "invalid syntax (2842399209.py, line 1)",
     "output_type": "error",
     "traceback": [
      "\u001b[1;36m  File \u001b[1;32m\"C:\\Users\\RAj\\AppData\\Local\\Temp\\ipykernel_15892\\2842399209.py\"\u001b[1;36m, line \u001b[1;32m1\u001b[0m\n\u001b[1;33m    ---\u001b[0m\n\u001b[1;37m       ^\u001b[0m\n\u001b[1;31mSyntaxError\u001b[0m\u001b[1;31m:\u001b[0m invalid syntax\n"
     ]
    }
   ],
   "source": [
    "---\n",
    "- name: Configure Webserver with Nginx on Amazon Linux\n",
    "  hosts: webservers\n",
    "  become: true # This allows Ansible to use sudo on the remote machine\n",
    "  tasks:\n",
    "    - name: Install Nginx package (for RedHat/Amazon Linux)\n",
    "      ansible.builtin.dnf:  # Changed from apt to dnf\n",
    "        name: nginx\n",
    "        state: present\n",
    "        update_cache: yes # Similar to apt update_cache\n",
    "\n",
    "    - name: Ensure Nginx service is running and enabled at boot\n",
    "      ansible.builtin.service:\n",
    "        name: nginx\n",
    "        state: started\n",
    "        enabled: yes\n",
    "\n",
    "    - name: Create a simple index.html file\n",
    "      ansible.builtin.copy:\n",
    "        content: \"<h1>Hello from Ansible! Nginx is working on Amazon Linux!</h1>\"\n",
    "        dest: /usr/share/nginx/html/index.html # Default Nginx HTML directory for Amazon Linux\n",
    "        mode: '0644'"
   ]
  },
  {
   "cell_type": "markdown",
   "id": "25465191",
   "metadata": {},
   "source": [
    "Let's quickly break down what this playbook does:\n",
    "\n",
    "---: This is standard YAML syntax to indicate the start of a document.\n",
    "    \n",
    "- name: Configure Webserver with Nginx: A human-readable name for your playbook.\n",
    "        \n",
    "hosts: webservers: This tells Ansible to run this playbook on all hosts that are part of the webservers group in your inventory.ini file.\n",
    "        \n",
    "become: true: This is crucial! Most system administration tasks (like installing software or starting services) require root privileges. become: true tells Ansible to use sudo on the remote server to execute these tasks.\n",
    "            \n",
    "tasks:: This marks the beginning of the list of actions Ansible will perform.\n",
    "        \n",
    "- name: Update apt cache...: Each - name: line defines a specific task. This task updates the package list on your EC2 instance."
   ]
  },
  {
   "cell_type": "markdown",
   "id": "bfe85b0c",
   "metadata": {},
   "source": [
    "nsible.builtin.apt:: This is an Ansible module for managing packages on Debian/Ubuntu-based systems (like the Ubuntu or Amazon Linux 2 AMIs you might be using).\n",
    "update_cache: yes: An argument to the apt module to refresh the package cache.\n",
    "when: ansible_os_family == \"Debian\": This is a conditional statement. It ensures this task only runs if the operating system is identified as a Debian-family distribution (like Ubuntu). Amazon Linux is technically RedHat family, but this task is harmless if skipped there.\n",
    "- name: Install Nginx package: Installs the nginx package. state: present ensures it's installed.\n",
    "- name: Ensure Nginx service is running and enabled at boot: This task uses the service module to make sure Nginx is not only running (state: started) but also starts automatically after a reboot (enabled: yes).\n",
    "- name: Create a simple index.html file: This task uses the copy module to place a basic index.html file in the web server's default directory.\n",
    "content: The actual HTML content.\n",
    "dest: The destination path on the EC2 instance.\n",
    "mode: File permissions."
   ]
  },
  {
   "cell_type": "markdown",
   "id": "89373a60",
   "metadata": {},
   "source": [
    "# Save and exit nano:"
   ]
  },
  {
   "cell_type": "markdown",
   "id": "b5567051",
   "metadata": {},
   "source": [
    "Press Ctrl + O (that's the letter O)\n",
    "\n",
    "Press Enter to confirm the filename.\n",
    "\n",
    "Press Ctrl + X to exit."
   ]
  },
  {
   "cell_type": "markdown",
   "id": "c9ae2a7d",
   "metadata": {},
   "source": [
    "# Execute Your First Ansible Playbook"
   ]
  },
  {
   "cell_type": "markdown",
   "id": "6062a5c6",
   "metadata": {},
   "source": [
    "1.Open your WSL Ubuntu terminal (if it's not already open).\n",
    "\n",
    "2.Make sure you are in your Ansible project directory:\n",
    "\n",
    "Bash Command\n",
    "\n",
    "------------------>cd ~/my_aws_ansible_project"
   ]
  },
  {
   "cell_type": "markdown",
   "id": "403931fe",
   "metadata": {},
   "source": [
    "Your inventory.ini and install_nginx.yml files should be in this directory."
   ]
  },
  {
   "cell_type": "markdown",
   "id": "030c8225",
   "metadata": {},
   "source": [
    "3.Run the playbook using the ansible-playbook command:\n",
    "\n",
    "Bash Command\n",
    "\n",
    "------------------->ansible-playbook -i inventory.ini install_nginx.yml"
   ]
  },
  {
   "cell_type": "markdown",
   "id": "a835b9f4",
   "metadata": {},
   "source": [
    "Excellent! Your first Ansible playbook, install_nginx.yml, is now saved and ready.\n",
    "\n",
    "Step 7: Execute Your First Ansible Playbook\n",
    "This is the moment of truth! We'll now run the playbook to automate the installation and configuration of Nginx on your AWS EC2 instance.\n",
    "\n",
    "Open your WSL Ubuntu terminal (if it's not already open).\n",
    "\n",
    "Make sure you are in your Ansible project directory:\n",
    "\n",
    "Bash Command\n",
    "\n",
    "------------->cd ~/my_aws_ansible_project\n",
    "Your inventory.ini and install_nginx.yml files should be in this directory.\n",
    "\n",
    "Run the playbook using the ansible-playbook command:\n",
    "\n",
    "Bash Command\n",
    "\n",
    "---------->ansible-playbook -i inventory.ini install_nginx.yml\n",
    "Let's break down this command:\n",
    "\n",
    "ansible-playbook: This is the command used to execute Ansible playbooks.\n",
    "-i inventory.ini: Just like with the ansible command, this tells ansible-playbook to use your inventory.ini file to find the hosts.\n",
    "install_nginx.yml: This is the name of the playbook file you want to execute.\n",
    "What to expect as output:\n",
    "\n",
    "As the playbook runs, you'll see a series of tasks being executed. Each task will show its status (e.g., ok, changed, failed).\n",
    "\n",
    "ok: Means the task ran successfully, and the target machine was already in the desired state (no changes were needed).\n",
    "changed: Means the task ran successfully, and it made a change to the target machine to bring it to the desired state (e.g., installed Nginx, started the service).\n",
    "failed: Means the task encountered an error."
   ]
  },
  {
   "cell_type": "markdown",
   "id": "94939803",
   "metadata": {},
   "source": [
    "# A successful run will look something like this (your specific IP and task names will vary):"
   ]
  },
  {
   "cell_type": "code",
   "execution_count": 6,
   "id": "af002bbe",
   "metadata": {},
   "outputs": [
    {
     "ename": "SyntaxError",
     "evalue": "invalid syntax (600921415.py, line 1)",
     "output_type": "error",
     "traceback": [
      "\u001b[1;36m  File \u001b[1;32m\"C:\\Users\\RAj\\AppData\\Local\\Temp\\ipykernel_15892\\600921415.py\"\u001b[1;36m, line \u001b[1;32m1\u001b[0m\n\u001b[1;33m    PLAY [Configure Webserver with Nginx] ******************************************\u001b[0m\n\u001b[1;37m                    ^\u001b[0m\n\u001b[1;31mSyntaxError\u001b[0m\u001b[1;31m:\u001b[0m invalid syntax\n"
     ]
    }
   ],
   "source": [
    "PLAY [Configure Webserver with Nginx] ******************************************\n",
    "\n",
    "TASK [Gathering Facts] *********************************************************\n",
    "ok: [54.123.45.67]\n",
    "\n",
    "TASK [Update apt cache (for Debian/Ubuntu-based systems)] **********************\n",
    "changed: [54.123.45.67]\n",
    "\n",
    "TASK [Install Nginx package] ***************************************************\n",
    "changed: [54.123.45.67]\n",
    "\n",
    "TASK [Ensure Nginx service is running and enabled at boot] *********************\n",
    "changed: [54.123.45.67]\n",
    "\n",
    "TASK [Create a simple index.html file] *****************************************\n",
    "changed: [54.123.45.67]\n",
    "\n",
    "PLAY RECAP *********************************************************************\n",
    "54.123.45.67               : ok=5    changed=4    unreachable=0    failed=0    skipped=0    rescued=0    ignored=0"
   ]
  },
  {
   "cell_type": "markdown",
   "id": "daacfe0f",
   "metadata": {},
   "source": [
    "# Verify the Configuration"
   ]
  },
  {
   "cell_type": "markdown",
   "id": "01c764dd",
   "metadata": {},
   "source": [
    "# Once the playbook completes with failed=0, it means Nginx should be installed and running on your EC2 instance. Let's verify it!\n",
    "\n",
    "Open a web browser on your Windows 11 machine.\n",
    "\n",
    "In the address bar, type the Public IPv4 address of your EC2 instance and press Enter.\n",
    "\n",
    "You should now see a simple web page displaying:\n",
    "\n",
    "\"Hello from Ansible! Nginx is working!\"\n",
    "\n",
    "If you see this page, congratulations! You've successfully installed and configured a web server on an AWS EC2 instance using Ansible from your WSL environment. This is a significant achievement in automation."
   ]
  },
  {
   "cell_type": "markdown",
   "id": "958015d4",
   "metadata": {},
   "source": [
    "# If you get any error Follow the below steps To check ."
   ]
  },
  {
   "cell_type": "markdown",
   "id": "b156c288",
   "metadata": {},
   "source": [
    "Step 1: Verify Nginx Status and Content on the EC2 Instance\n",
    "    \n",
    "    \n",
    "\n",
    "SSH back into your EC2 instance from your WSL terminal:\n",
    "\n",
    "Bash Command\n",
    "\n",
    "-------------------------->ssh -i ~/.ssh/my-key-pair.pem ec2-user@<YOUR_EC2_PUBLIC_IP>"
   ]
  },
  {
   "cell_type": "markdown",
   "id": "beaedba3",
   "metadata": {},
   "source": [
    "(Remember to replace my-key-pair.pem and <YOUR_EC2_PUBLIC_IP> with your actual values)."
   ]
  },
  {
   "cell_type": "markdown",
   "id": "b2076e2b",
   "metadata": {},
   "source": [
    "Srep2.Once you're inside the EC2 instance, run these commands:\n",
    "\n",
    "Check Nginx service status:\n",
    "\n",
    "Bash Command\n",
    "\n",
    "--------------->systemctl status nginx"
   ]
  },
  {
   "cell_type": "markdown",
   "id": "4224a7e8",
   "metadata": {},
   "source": [
    "You should see output indicating Active: active (running). If it says inactive or failed, that's a problem."
   ]
  },
  {
   "cell_type": "code",
   "execution_count": null,
   "id": "54d9316a",
   "metadata": {},
   "outputs": [],
   "source": []
  }
 ],
 "metadata": {
  "kernelspec": {
   "display_name": "Python 3 (ipykernel)",
   "language": "python",
   "name": "python3"
  },
  "language_info": {
   "codemirror_mode": {
    "name": "ipython",
    "version": 3
   },
   "file_extension": ".py",
   "mimetype": "text/x-python",
   "name": "python",
   "nbconvert_exporter": "python",
   "pygments_lexer": "ipython3",
   "version": "3.9.13"
  }
 },
 "nbformat": 4,
 "nbformat_minor": 5
}
